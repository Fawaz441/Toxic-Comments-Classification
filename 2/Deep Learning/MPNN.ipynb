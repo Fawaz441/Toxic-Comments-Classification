{
 "cells": [
  {
   "cell_type": "code",
   "execution_count": 1,
   "metadata": {},
   "outputs": [],
   "source": [
    "from tensorflow.keras.models import Sequential\n",
    "from tensorflow.keras.layers import Dense,Dropout"
   ]
  },
  {
   "cell_type": "code",
   "execution_count": 2,
   "metadata": {},
   "outputs": [],
   "source": [
    "import pandas as pd\n",
    "import numpy as np\n",
    "import matplotlib.pyplot as plt\n",
    "dataset = pd.read_csv(\"../../datasets/toxic_comments_2.csv\",nrows=6000)\n",
    "labels = pd.read_csv(\"../../datasets/labels.csv\",nrows=6000)"
   ]
  },
  {
   "cell_type": "code",
   "execution_count": 3,
   "metadata": {},
   "outputs": [],
   "source": [
    "import nltk\n",
    "from nltk.corpus import stopwords\n",
    "labels = labels[[\"id\",\"toxic\"]]\n",
    "labels[\"toxic\"] = labels[\"toxic\"].replace(-1,1)"
   ]
  },
  {
   "cell_type": "code",
   "execution_count": 4,
   "metadata": {},
   "outputs": [],
   "source": [
    "import re\n",
    "corpus = []\n",
    "dataset[\"comment_text\"] = dataset[\"comment_text\"].str.replace(\"\\n\",\" \")\n",
    "dataset[\"comment_text\"] = dataset[\"comment_text\"].str.replace(\"@\",\" \")\n",
    "dataset[\"comment_text\"] = dataset[\"comment_text\"].str.replace(\"==\",\" \")\n",
    "dataset[\"comment_text\"] = dataset[\"comment_text\"].str.replace(\"*\",\" \")\n",
    "for i in range(0,6000):\n",
    "    words = re.sub('[^a-zA-Z]',' ',dataset[\"comment_text\"][i])\n",
    "    words = words.lower().split()\n",
    "    words = [word for word in words if not word in set(stopwords.words(\"english\"))]\n",
    "    sentence = ' '.join(words)\n",
    "    corpus.append(sentence)"
   ]
  },
  {
   "cell_type": "code",
   "execution_count": 5,
   "metadata": {},
   "outputs": [],
   "source": [
    "from sklearn.model_selection import train_test_split\n",
    "from sklearn.feature_extraction.text import CountVectorizer\n",
    "cv = CountVectorizer(max_features=1500)\n",
    "\n",
    "X = cv.fit_transform(corpus).toarray()\n",
    "y = labels[\"toxic\"].values\n",
    "X_train,X_test,y_train,y_test = train_test_split(X,y,test_size=0.2,random_state=0)"
   ]
  },
  {
   "cell_type": "code",
   "execution_count": 6,
   "metadata": {},
   "outputs": [],
   "source": [
    "model = Sequential()\n",
    "model.add(Dense(10,input_shape=(1500,),activation='relu'))\n",
    "model.add(Dropout(0.2))\n",
    "model.add(Dense(10))\n",
    "model.add(Dense(1,activation='sigmoid'))"
   ]
  },
  {
   "cell_type": "code",
   "execution_count": 7,
   "metadata": {},
   "outputs": [],
   "source": [
    "#functions to calculate recall,precision and f1_score\n",
    "from tensorflow.keras import backend as K\n",
    "\n",
    "def recall_m(y_true, y_pred):\n",
    "    true_positives = K.sum(K.round(K.clip(y_true * y_pred, 0, 1)))\n",
    "    possible_positives = K.sum(K.round(K.clip(y_true, 0, 1)))\n",
    "    recall = true_positives / (possible_positives + K.epsilon())\n",
    "    return recall\n",
    "\n",
    "def precision_m(y_true, y_pred):\n",
    "    true_positives = K.sum(K.round(K.clip(y_true * y_pred, 0, 1)))\n",
    "    predicted_positives = K.sum(K.round(K.clip(y_pred, 0, 1)))\n",
    "    precision = true_positives / (predicted_positives + K.epsilon())\n",
    "    return precision\n",
    "\n",
    "def f1_m(y_true, y_pred):\n",
    "    precision = precision_m(y_true, y_pred)\n",
    "    recall = recall_m(y_true, y_pred)\n",
    "    return 2*((precision*recall)/(precision+recall+K.epsilon()))\n",
    "\n",
    "model.compile(loss='binary_crossentropy',optimizer='adam',metrics=['accuracy',f1_m,precision_m, recall_m])"
   ]
  },
  {
   "cell_type": "code",
   "execution_count": 8,
   "metadata": {},
   "outputs": [
    {
     "name": "stdout",
     "output_type": "stream",
     "text": [
      "Train on 4800 samples\n",
      "Epoch 1/8\n",
      "4800/4800 - 3s - loss: 0.6762 - accuracy: 0.6181 - f1_m: 0.7518 - precision_m: 0.6273 - recall_m: 0.9523\n",
      "Epoch 2/8\n",
      "4800/4800 - 1s - loss: 0.6306 - accuracy: 0.6321 - f1_m: 0.7675 - precision_m: 0.6291 - recall_m: 0.9920\n",
      "Epoch 3/8\n",
      "4800/4800 - 0s - loss: 0.5898 - accuracy: 0.6629 - f1_m: 0.7799 - precision_m: 0.6526 - recall_m: 0.9777\n",
      "Epoch 4/8\n",
      "4800/4800 - 0s - loss: 0.5483 - accuracy: 0.7029 - f1_m: 0.7959 - precision_m: 0.6905 - recall_m: 0.9467\n",
      "Epoch 5/8\n",
      "4800/4800 - 0s - loss: 0.5036 - accuracy: 0.7444 - f1_m: 0.8141 - precision_m: 0.7397 - recall_m: 0.9119\n",
      "Epoch 6/8\n",
      "4800/4800 - 0s - loss: 0.4674 - accuracy: 0.7681 - f1_m: 0.8265 - precision_m: 0.7670 - recall_m: 0.9029\n",
      "Epoch 7/8\n",
      "4800/4800 - 0s - loss: 0.4312 - accuracy: 0.7965 - f1_m: 0.8426 - precision_m: 0.8029 - recall_m: 0.8913\n",
      "Epoch 8/8\n",
      "4800/4800 - 0s - loss: 0.3974 - accuracy: 0.8165 - f1_m: 0.8561 - precision_m: 0.8220 - recall_m: 0.8973\n"
     ]
    }
   ],
   "source": [
    "history = model.fit(X_train,y_train,batch_size=45,epochs=8,verbose=2)"
   ]
  },
  {
   "cell_type": "code",
   "execution_count": 9,
   "metadata": {},
   "outputs": [],
   "source": [
    "y_pred = model.predict(X_test)"
   ]
  },
  {
   "cell_type": "code",
   "execution_count": 10,
   "metadata": {},
   "outputs": [
    {
     "data": {
      "image/png": "[encoded data removed]",
      "text/plain": [
       "<Figure size 432x288 with 1 Axes>"
      ]
     },
     "metadata": {
      "needs_background": "light"
     },
     "output_type": "display_data"
    }
   ],
   "source": [
    "from sklearn.metrics import roc_curve\n",
    "fp,tp,treshold = roc_curve(y_test,y_pred) #using percentages for a roc curve makes the roc curve curved\n",
    "plt.plot(fp,tp,marker = '.',label='ROC Curve for Multi Layered Perceptron Neural Network',color='purple')\n",
    "plt.xlabel(\"False Positive Rate\")\n",
    "plt.ylabel('True Positive Rate')\n",
    "plt.legend()\n",
    "plt.show()"
   ]
  },
  {
   "cell_type": "code",
   "execution_count": 24,
   "metadata": {},
   "outputs": [],
   "source": [
    "#using 0 or 1 will make the curve linear"
   ]
  },
  {
   "cell_type": "code",
   "execution_count": 15,
   "metadata": {},
   "outputs": [
    {
     "name": "stdout",
     "output_type": "stream",
     "text": [
      "True positive rate =  0.7479784366576819\n",
      "False positive rate =  0.6353711790393013\n",
      "ROC area ==  0.5563036288091903\n"
     ]
    }
   ],
   "source": [
    "results = []\n",
    "for result in y_pred:\n",
    "    if result > 0.5:\n",
    "        results.append(1)\n",
    "    else:\n",
    "        results.append(0)\n",
    "results = np.array(results)\n",
    "from sklearn.metrics import roc_auc_score,confusion_matrix\n",
    "def get_roc_area_and_tp_and_fp_rates():\n",
    "    cm = confusion_matrix(y_test,results)\n",
    "    tn, fp, fn, tp = cm.ravel()\n",
    "    print(\"True positive rate = \",tp/(tp + fn))\n",
    "    print(\"False positive rate = \",fp/(tn + fp))\n",
    "    area = roc_auc_score(y_test,results)\n",
    "    print(\"ROC area == \",area)\n",
    "    \n",
    "get_roc_area_and_tp_and_fp_rates()"
   ]
  },
  {
   "cell_type": "code",
   "execution_count": null,
   "metadata": {},
   "outputs": [],
   "source": []
  }
 ],
 "metadata": {
  "kernelspec": {
   "display_name": "Python 3",
   "language": "python",
   "name": "python3"
  },
  "language_info": {
   "codemirror_mode": {
    "name": "ipython",
    "version": 3
   },
   "file_extension": ".py",
   "mimetype": "text/x-python",
   "name": "python",
   "nbconvert_exporter": "python",
   "pygments_lexer": "ipython3",
   "version": "3.7.7"
  }
 },
 "nbformat": 4,
 "nbformat_minor": 4
}
