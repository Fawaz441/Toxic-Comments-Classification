{
 "cells": [
  {
   "cell_type": "code",
   "execution_count": 5,
   "metadata": {},
   "outputs": [],
   "source": [
    "from tensorflow.keras.models import Sequential\n",
    "from tensorflow.keras.layers import Dense,Dropout,Embedding"
   ]
  },
  {
   "cell_type": "code",
   "execution_count": 2,
   "metadata": {},
   "outputs": [],
   "source": [
    "import pandas as pd\n",
    "import numpy as np\n",
    "import matplotlib.pyplot as plt\n",
    "dataset = pd.read_csv(\"../../datasets/toxic_comments_2.csv\",nrows=6000)\n",
    "labels = pd.read_csv(\"../../datasets/labels.csv\",nrows=6000)"
   ]
  },
  {
   "cell_type": "code",
   "execution_count": 3,
   "metadata": {},
   "outputs": [],
   "source": [
    "import nltk\n",
    "from nltk.corpus import stopwords\n",
    "labels = labels[[\"id\",\"toxic\"]]\n",
    "labels[\"toxic\"] = labels[\"toxic\"].replace(-1,1)"
   ]
  },
  {
   "cell_type": "code",
   "execution_count": 4,
   "metadata": {},
   "outputs": [],
   "source": [
    "import re\n",
    "corpus = []\n",
    "dataset[\"comment_text\"] = dataset[\"comment_text\"].str.replace(\"\\n\",\" \")\n",
    "dataset[\"comment_text\"] = dataset[\"comment_text\"].str.replace(\"@\",\" \")\n",
    "dataset[\"comment_text\"] = dataset[\"comment_text\"].str.replace(\"==\",\" \")\n",
    "dataset[\"comment_text\"] = dataset[\"comment_text\"].str.replace(\"*\",\" \")\n",
    "for i in range(0,6000):\n",
    "    words = re.sub('[^a-zA-Z]',' ',dataset[\"comment_text\"][i])\n",
    "    words = words.lower().split()\n",
    "    words = [word for word in words if not word in set(stopwords.words(\"english\"))]\n",
    "    sentence = ' '.join(words)\n",
    "    corpus.append(sentence)"
   ]
  },
  {
   "cell_type": "code",
   "execution_count": 6,
   "metadata": {},
   "outputs": [],
   "source": [
    "from sklearn.model_selection import train_test_split\n",
    "from tensorflow.keras.preprocessing.text import Tokenizer\n",
    "tokenizer = Tokenizer(num_words=20000)\n",
    "tokenizer.fit_on_texts(np.array(corpus))\n",
    "\n"
   ]
  },
  {
   "cell_type": "code",
   "execution_count": 7,
   "metadata": {},
   "outputs": [],
   "source": [
    "from tensorflow.keras.preprocessing import sequence\n",
    "X = tokenizer.texts_to_sequences(np.array(corpus))\n",
    "X = sequence.pad_sequences(X,maxlen=50)"
   ]
  },
  {
   "cell_type": "code",
   "execution_count": 9,
   "metadata": {},
   "outputs": [],
   "source": [
    "X_train,X_test,y_train,y_test = train_test_split(X,labels[\"toxic\"].values,test_size=0.2,random_state=0)"
   ]
  },
  {
   "cell_type": "code",
   "execution_count": 13,
   "metadata": {},
   "outputs": [
    {
     "name": "stdout",
     "output_type": "stream",
     "text": [
      "Model: \"sequential_1\"\n",
      "_________________________________________________________________\n",
      "Layer (type)                 Output Shape              Param #   \n",
      "=================================================================\n",
      "embedding_1 (Embedding)      (None, None, 50)          1000000   \n",
      "_________________________________________________________________\n",
      "dense_2 (Dense)              (None, None, 50)          2550      \n",
      "_________________________________________________________________\n",
      "dense_3 (Dense)              (None, None, 1)           51        \n",
      "=================================================================\n",
      "Total params: 1,002,601\n",
      "Trainable params: 1,002,601\n",
      "Non-trainable params: 0\n",
      "_________________________________________________________________\n"
     ]
    }
   ],
   "source": [
    "from tensorflow.keras.layers import Embedding\n",
    "model = Sequential()\n",
    "model.add(Embedding(20000,50))\n",
    "model.add(Dense(50, activation='relu'))\n",
    "model.add(Dense(1, activation='sigmoid'))\n",
    "model.summary() "
   ]
  },
  {
   "cell_type": "code",
   "execution_count": 14,
   "metadata": {},
   "outputs": [],
   "source": [
    "#functions to calculate recall,precision and f1_score\n",
    "from tensorflow.keras import backend as K\n",
    "\n",
    "def recall_m(y_true, y_pred):\n",
    "    true_positives = K.sum(K.round(K.clip(y_true * y_pred, 0, 1)))\n",
    "    possible_positives = K.sum(K.round(K.clip(y_true, 0, 1)))\n",
    "    recall = true_positives / (possible_positives + K.epsilon())\n",
    "    return recall\n",
    "\n",
    "def precision_m(y_true, y_pred):\n",
    "    true_positives = K.sum(K.round(K.clip(y_true * y_pred, 0, 1)))\n",
    "    predicted_positives = K.sum(K.round(K.clip(y_pred, 0, 1)))\n",
    "    precision = true_positives / (predicted_positives + K.epsilon())\n",
    "    return precision\n",
    "\n",
    "def f1_m(y_true, y_pred):\n",
    "    precision = precision_m(y_true, y_pred)\n",
    "    recall = recall_m(y_true, y_pred)\n",
    "    return 2*((precision*recall)/(precision+recall+K.epsilon()))\n",
    "\n",
    "model.compile(loss='binary_crossentropy',optimizer='adam',metrics=['accuracy',f1_m,precision_m, recall_m])"
   ]
  },
  {
   "cell_type": "code",
   "execution_count": 15,
   "metadata": {},
   "outputs": [
    {
     "name": "stdout",
     "output_type": "stream",
     "text": [
      "Train on 4800 samples\n",
      "Epoch 1/10\n",
      "4800/4800 - 6s - loss: 0.6687 - accuracy: 0.6149 - f1_m: 1.2246 - precision_m: 0.6211 - recall_m: 48.6040\n",
      "Epoch 2/10\n",
      "4800/4800 - 4s - loss: 0.6567 - accuracy: 0.6224 - f1_m: 1.2309 - precision_m: 0.6233 - recall_m: 49.4585\n",
      "Epoch 3/10\n",
      "4800/4800 - 4s - loss: 0.6459 - accuracy: 0.6440 - f1_m: 1.2756 - precision_m: 0.6467 - recall_m: 46.9242\n",
      "Epoch 4/10\n",
      "4800/4800 - 4s - loss: 0.6351 - accuracy: 0.6467 - f1_m: 1.2802 - precision_m: 0.6491 - recall_m: 46.6680\n",
      "Epoch 5/10\n",
      "4800/4800 - 4s - loss: 0.6287 - accuracy: 0.6469 - f1_m: 1.2755 - precision_m: 0.6466 - recall_m: 47.3709\n",
      "Epoch 6/10\n",
      "4800/4800 - 4s - loss: 0.6236 - accuracy: 0.6487 - f1_m: 1.2778 - precision_m: 0.6477 - recall_m: 47.5685\n",
      "Epoch 7/10\n",
      "4800/4800 - 4s - loss: 0.6211 - accuracy: 0.6500 - f1_m: 1.2770 - precision_m: 0.6472 - recall_m: 47.7837\n",
      "Epoch 8/10\n",
      "4800/4800 - 4s - loss: 0.6184 - accuracy: 0.6509 - f1_m: 1.2774 - precision_m: 0.6475 - recall_m: 47.9237\n",
      "Epoch 9/10\n",
      "4800/4800 - 4s - loss: 0.6162 - accuracy: 0.6519 - f1_m: 1.2758 - precision_m: 0.6466 - recall_m: 48.2026\n",
      "Epoch 10/10\n",
      "4800/4800 - 4s - loss: 0.6150 - accuracy: 0.6525 - f1_m: 1.2773 - precision_m: 0.6473 - recall_m: 48.2183\n"
     ]
    }
   ],
   "source": [
    "history = model.fit(X_train,y_train,batch_size=45,epochs=10,verbose=2)"
   ]
  },
  {
   "cell_type": "code",
   "execution_count": 16,
   "metadata": {},
   "outputs": [],
   "source": [
    "y_pred = model.predict(X_test)"
   ]
  },
  {
   "cell_type": "code",
   "execution_count": 21,
   "metadata": {},
   "outputs": [],
   "source": [
    "results = []\n",
    "for result in y_pred:\n",
    "    results.append(max(result))\n",
    "results = np.array(results)"
   ]
  },
  {
   "cell_type": "code",
   "execution_count": 22,
   "metadata": {},
   "outputs": [
    {
     "data": {
      "image/png": "[encoded data removed]",
      "text/plain": [
       "<Figure size 432x288 with 1 Axes>"
      ]
     },
     "metadata": {
      "needs_background": "light"
     },
     "output_type": "display_data"
    }
   ],
   "source": [
    "from sklearn.metrics import roc_curve\n",
    "fp,tp,treshold = roc_curve(y_test,results) #using percentages for a roc curve makes the roc curve curved\n",
    "plt.plot(fp,tp,marker = '.',label='ROC Curve for GRNN',color='purple')\n",
    "plt.xlabel(\"False Positive Rate\")\n",
    "plt.ylabel('True Positive Rate')\n",
    "plt.legend()\n",
    "plt.show()"
   ]
  },
  {
   "cell_type": "code",
   "execution_count": 24,
   "metadata": {},
   "outputs": [],
   "source": [
    "#using 0 or 1 will make the curve linear"
   ]
  },
  {
   "cell_type": "code",
   "execution_count": null,
   "metadata": {},
   "outputs": [],
   "source": []
  }
 ],
 "metadata": {
  "kernelspec": {
   "display_name": "Python 3",
   "language": "python",
   "name": "python3"
  },
  "language_info": {
   "codemirror_mode": {
    "name": "ipython",
    "version": 3
   },
   "file_extension": ".py",
   "mimetype": "text/x-python",
   "name": "python",
   "nbconvert_exporter": "python",
   "pygments_lexer": "ipython3",
   "version": "3.7.7"
  }
 },
 "nbformat": 4,
 "nbformat_minor": 4
}
