{
 "cells": [
  {
   "cell_type": "code",
   "execution_count": 1,
   "metadata": {},
   "outputs": [
    {
     "name": "stderr",
     "output_type": "stream",
     "text": [
      "[nltk_data] Error loading stopwords: <urlopen error [Errno 11001]\n",
      "[nltk_data]     getaddrinfo failed>\n"
     ]
    }
   ],
   "source": [
    "import pandas as pd\n",
    "import numpy as np\n",
    "import matplotlib.pyplot as plt\n",
    "import nltk\n",
    "nltk.download('stopwords')\n",
    "import re\n",
    "from nltk.corpus import stopwords\n",
    "from nltk.stem.porter import PorterStemmer\n",
    "from sklearn.feature_extraction.text import CountVectorizer\n",
    "from sklearn.model_selection import train_test_split"
   ]
  },
  {
   "cell_type": "code",
   "execution_count": 4,
   "metadata": {},
   "outputs": [],
   "source": [
    "dataset = pd.read_csv(\"../../datasets/toxic_comments_1.csv\",nrows=6000)"
   ]
  },
  {
   "cell_type": "code",
   "execution_count": 5,
   "metadata": {},
   "outputs": [],
   "source": [
    "dataset = dataset[[\"comment_text\",\"toxic\"]]"
   ]
  },
  {
   "cell_type": "code",
   "execution_count": 6,
   "metadata": {},
   "outputs": [],
   "source": [
    "#cleaning the text\n",
    "dataset.columns = [\"comment\",\"toxic\"]\n",
    "dataset[\"comment\"] = dataset[\"comment\"].str.replace(\"\\n\",\" \")"
   ]
  },
  {
   "cell_type": "code",
   "execution_count": 7,
   "metadata": {},
   "outputs": [],
   "source": [
    "bag_of_words = []\n",
    "import re\n",
    "for i in range(0,6000):\n",
    "    words = re.sub('[^a-zA-Z]',' ',dataset[\"comment\"][i])\n",
    "    words = words.lower().split()\n",
    "    words = [word for word in words if not word in set(stopwords.words(\"english\"))]\n",
    "    sentence = ' '.join(words)\n",
    "    bag_of_words.append(sentence)"
   ]
  },
  {
   "cell_type": "code",
   "execution_count": 8,
   "metadata": {},
   "outputs": [
    {
     "data": {
      "text/plain": [
       "<AxesSubplot:ylabel='Frequency'>"
      ]
     },
     "execution_count": 8,
     "metadata": {},
     "output_type": "execute_result"
    },
    {
     "data": {
      "image/png": "[encoded data removed]",
      "text/plain": [
       "<Figure size 432x288 with 1 Axes>"
      ]
     },
     "metadata": {
      "needs_background": "light"
     },
     "output_type": "display_data"
    }
   ],
   "source": [
    "dataset[\"toxic\"].plot(kind='hist',label='Toxic Classification')"
   ]
  },
  {
   "cell_type": "code",
   "execution_count": 9,
   "metadata": {},
   "outputs": [],
   "source": [
    "from sklearn.model_selection import train_test_split\n",
    "from sklearn.feature_extraction.text import CountVectorizer\n",
    "cv = CountVectorizer(max_features=1500)\n",
    "\n",
    "X = cv.fit_transform(bag_of_words).toarray()\n",
    "y = dataset[\"toxic\"].values\n",
    "X_train,X_test,y_train,y_test = train_test_split(X,y,test_size=0.2,random_state=0)"
   ]
  },
  {
   "cell_type": "code",
   "execution_count": 10,
   "metadata": {},
   "outputs": [],
   "source": [
    "kval = 10\n",
    "itertot = 40\n",
    "sigma = 1.2\n",
    "itergd = 300\n",
    "kmean = np.zeros((kval, len(X_train[0])))"
   ]
  },
  {
   "cell_type": "code",
   "execution_count": 11,
   "metadata": {},
   "outputs": [],
   "source": [
    "import random\n",
    "for i in range(kval):\n",
    "    for j in range(len(kmean[0])):\n",
    "        kmean[i,j] = random.uniform(min(X_train[:,j]),max(X_train[:,j]))"
   ]
  },
  {
   "cell_type": "code",
   "execution_count": 12,
   "metadata": {},
   "outputs": [
    {
     "name": "stdout",
     "output_type": "stream",
     "text": [
      "iteration  0\n",
      "iteration  1\n",
      "iteration  2\n",
      "iteration  3\n",
      "iteration  4\n",
      "iteration  5\n",
      "iteration  6\n",
      "iteration  7\n",
      "iteration  8\n",
      "iteration  9\n",
      "iteration  10\n",
      "iteration  11\n",
      "iteration  12\n",
      "iteration  13\n",
      "iteration  14\n",
      "iteration  15\n",
      "iteration  16\n",
      "iteration  17\n",
      "iteration  18\n",
      "iteration  19\n",
      "iteration  20\n",
      "iteration  21\n",
      "iteration  22\n",
      "iteration  23\n",
      "iteration  24\n",
      "iteration  25\n",
      "iteration  26\n",
      "iteration  27\n",
      "iteration  28\n",
      "iteration  29\n",
      "iteration  30\n",
      "iteration  31\n",
      "iteration  32\n",
      "iteration  33\n",
      "iteration  34\n",
      "iteration  35\n",
      "iteration  36\n",
      "iteration  37\n",
      "iteration  38\n",
      "iteration  39\n"
     ]
    }
   ],
   "source": [
    "distmin = np.zeros((len(X_train)))\n",
    "for i in range(itertot):\n",
    "  print('iteration ',i)\n",
    "  for j in range(len(distmin)):\n",
    "\t\t#determine euclid distance\n",
    "    distall = np.sum((X_train[j] - kmean)**2.0, axis=1)**0.5\n",
    "    distmin[j] = np.argmin(distall)\n",
    "\n",
    "\t#search new k mean\n",
    "  for j in range(kval):\n",
    "    clust = []\n",
    "    for k in range(len(distmin)):\n",
    "      if distmin[k] == j:\n",
    "        clust.append(X_train[k])\n",
    "    if len(clust) > 0:\n",
    "      kmean[j] = np.mean(np.asarray(clust), axis=0)"
   ]
  },
  {
   "cell_type": "code",
   "execution_count": 13,
   "metadata": {},
   "outputs": [],
   "source": [
    "from tensorflow.python.keras.models import Sequential\n",
    "from tensorflow.python.keras.layers import Dense\n",
    "\n",
    "def transforminput(param, center):\n",
    "\tnewinput = np.zeros((len(param), len(center))).astype('float32')\n",
    "\tfor i in range(len(param)):\n",
    "\t\tfor j in range(len(center)):\n",
    "\t\t\tnewinput[i,j] = np.exp(-(np.sum((param[i] - center[j])**2.0)**0.5) / sigma**2.0)\n",
    "\treturn newinput\n",
    "\n",
    "def generatemodel(numparam):\n",
    "  model = Sequential()\n",
    "  model.add(Dense(1, input_dim=numparam, activation='sigmoid'))\n",
    "  model.add(Dense(10, activation='relu'))\n",
    "  model.add(Dense(1, activation='sigmoid'))\n",
    "  model.compile(loss='binary_crossentropy',optimizer='adam',metrics=['accuracy',f1_m,precision_m, recall_m])\n",
    "  return model"
   ]
  },
  {
   "cell_type": "code",
   "execution_count": 14,
   "metadata": {},
   "outputs": [],
   "source": [
    "newinput = transforminput(X_train, kmean)"
   ]
  },
  {
   "cell_type": "code",
   "execution_count": 15,
   "metadata": {},
   "outputs": [],
   "source": [
    "new_X_test = transforminput(X_test,kmean)"
   ]
  },
  {
   "cell_type": "code",
   "execution_count": 16,
   "metadata": {},
   "outputs": [],
   "source": [
    "from tensorflow.keras import backend as K\n",
    "\n",
    "def recall_m(y_true, y_pred):\n",
    "    true_positives = K.sum(K.round(K.clip(y_true * y_pred, 0, 1)))\n",
    "    possible_positives = K.sum(K.round(K.clip(y_true, 0, 1)))\n",
    "    recall = true_positives / (possible_positives + K.epsilon())\n",
    "    return recall\n",
    "\n",
    "def precision_m(y_true, y_pred):\n",
    "    true_positives = K.sum(K.round(K.clip(y_true * y_pred, 0, 1)))\n",
    "    predicted_positives = K.sum(K.round(K.clip(y_pred, 0, 1)))\n",
    "    precision = true_positives / (predicted_positives + K.epsilon())\n",
    "    return precision\n",
    "\n",
    "def f1_m(y_true, y_pred):\n",
    "    precision = precision_m(y_true, y_pred)\n",
    "    recall = recall_m(y_true, y_pred)\n",
    "    return 2*((precision*recall)/(precision+recall+K.epsilon()))\n",
    "\n"
   ]
  },
  {
   "cell_type": "code",
   "execution_count": 17,
   "metadata": {},
   "outputs": [],
   "source": [
    "from tensorflow.keras.layers import Embedding\n",
    "model = generatemodel(kval)"
   ]
  },
  {
   "cell_type": "code",
   "execution_count": 18,
   "metadata": {},
   "outputs": [
    {
     "name": "stdout",
     "output_type": "stream",
     "text": [
      "Train on 4800 samples\n",
      "4800/4800 - 3s - loss: 0.6080 - accuracy: 0.9048 - f1_m: 0.0000e+00 - precision_m: 0.0000e+00 - recall_m: 0.0000e+00\n"
     ]
    },
    {
     "data": {
      "text/plain": [
       "<tensorflow.python.keras.callbacks.History at 0x180082b1748>"
      ]
     },
     "execution_count": 18,
     "metadata": {},
     "output_type": "execute_result"
    }
   ],
   "source": [
    "model.fit(newinput, y_train, batch_size=45, epochs=1, verbose=2, shuffle=True)\t"
   ]
  },
  {
   "cell_type": "code",
   "execution_count": 19,
   "metadata": {},
   "outputs": [],
   "source": [
    "from sklearn.metrics import roc_curve\n",
    "y_pred = model.predict(new_X_test)"
   ]
  },
  {
   "cell_type": "code",
   "execution_count": 20,
   "metadata": {},
   "outputs": [],
   "source": [
    "results = []\n",
    "for result in y_pred:\n",
    "    if y_pred[0] > 0.5:results.append(1)\n",
    "    else:results.append(0)"
   ]
  },
  {
   "cell_type": "code",
   "execution_count": 21,
   "metadata": {},
   "outputs": [],
   "source": [
    "results = np.array(results)"
   ]
  },
  {
   "cell_type": "code",
   "execution_count": 22,
   "metadata": {},
   "outputs": [
    {
     "data": {
      "image/png": "[encoded data removed]",
      "text/plain": [
       "<Figure size 432x288 with 1 Axes>"
      ]
     },
     "metadata": {
      "needs_background": "light"
     },
     "output_type": "display_data"
    }
   ],
   "source": [
    "\n",
    "fpr_keras, tpr_keras, thresholds_keras = roc_curve(y_test, results)\n",
    "import matplotlib.pyplot as plt\n",
    "plt.plot(fpr_keras, tpr_keras, marker='.', label='ROC Curve',color='orange')\n",
    "plt.xlabel('False Positive Rate')\n",
    "plt.ylabel('True Positive Rate')\n",
    "plt.legend()\n",
    "plt.show()"
   ]
  },
  {
   "cell_type": "code",
   "execution_count": 23,
   "metadata": {},
   "outputs": [
    {
     "name": "stdout",
     "output_type": "stream",
     "text": [
      "True positive rate =  0.0\n",
      "False positive rate =  0.0\n",
      "ROC area ==  0.5\n"
     ]
    }
   ],
   "source": [
    "from sklearn.metrics import roc_auc_score,confusion_matrix\n",
    "def get_roc_area_and_tp_and_fp_rates():\n",
    "    cm = confusion_matrix(y_test,results)\n",
    "    tn, fp, fn, tp = cm.ravel()\n",
    "    print(\"True positive rate = \",tp/(tp + fn))\n",
    "    print(\"False positive rate = \",fp/(tn + fp))\n",
    "    area = roc_auc_score(y_test,results)\n",
    "    print(\"ROC area == \",area)\n",
    "    \n",
    "get_roc_area_and_tp_and_fp_rates()\n",
    "    "
   ]
  },
  {
   "cell_type": "code",
   "execution_count": null,
   "metadata": {},
   "outputs": [],
   "source": []
  }
 ],
 "metadata": {
  "kernelspec": {
   "display_name": "Python 3",
   "language": "python",
   "name": "python3"
  },
  "language_info": {
   "codemirror_mode": {
    "name": "ipython",
    "version": 3
   },
   "file_extension": ".py",
   "mimetype": "text/x-python",
   "name": "python",
   "nbconvert_exporter": "python",
   "pygments_lexer": "ipython3",
   "version": "3.7.7"
  }
 },
 "nbformat": 4,
 "nbformat_minor": 4
}
