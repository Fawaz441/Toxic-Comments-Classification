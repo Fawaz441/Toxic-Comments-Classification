{
 "cells": [
  {
   "cell_type": "code",
   "execution_count": 1,
   "metadata": {},
   "outputs": [
    {
     "name": "stderr",
     "output_type": "stream",
     "text": [
      "[nltk_data] Error loading stopwords: <urlopen error [Errno 11001]\n",
      "[nltk_data]     getaddrinfo failed>\n"
     ]
    }
   ],
   "source": [
    "import pandas as pd\n",
    "import numpy as np\n",
    "import matplotlib.pyplot as plt\n",
    "import nltk\n",
    "nltk.download('stopwords')\n",
    "import re\n",
    "from nltk.corpus import stopwords\n",
    "from nltk.stem.porter import PorterStemmer\n",
    "from sklearn.feature_extraction.text import CountVectorizer\n",
    "from sklearn.model_selection import train_test_split"
   ]
  },
  {
   "cell_type": "code",
   "execution_count": 2,
   "metadata": {},
   "outputs": [],
   "source": [
    "dataset = pd.read_csv(\"../../datasets/toxic_comments_1.csv\",nrows=6000)"
   ]
  },
  {
   "cell_type": "code",
   "execution_count": 3,
   "metadata": {},
   "outputs": [],
   "source": [
    "dataset = dataset[[\"comment_text\",\"toxic\"]]"
   ]
  },
  {
   "cell_type": "code",
   "execution_count": 4,
   "metadata": {},
   "outputs": [],
   "source": [
    "#cleaning the text\n",
    "dataset.columns = [\"comment\",\"toxic\"]\n",
    "dataset[\"comment\"] = dataset[\"comment\"].str.replace(\"\\n\",\" \")"
   ]
  },
  {
   "cell_type": "code",
   "execution_count": 5,
   "metadata": {},
   "outputs": [],
   "source": [
    "bag_of_words = []\n",
    "import re\n",
    "for i in range(0,6000):\n",
    "    words = re.sub('[^a-zA-Z]',' ',dataset[\"comment\"][i])\n",
    "    words = words.lower().split()\n",
    "    words = [word for word in words if not word in set(stopwords.words(\"english\"))]\n",
    "    sentence = ' '.join(words)\n",
    "    bag_of_words.append(sentence)"
   ]
  },
  {
   "cell_type": "code",
   "execution_count": 6,
   "metadata": {},
   "outputs": [],
   "source": [
    "from tensorflow.keras.models import Sequential\n",
    "from tensorflow.keras.layers import Dense,Dropout,Embedding"
   ]
  },
  {
   "cell_type": "code",
   "execution_count": 7,
   "metadata": {},
   "outputs": [],
   "source": [
    "from sklearn.model_selection import train_test_split\n",
    "from tensorflow.keras.preprocessing.text import Tokenizer\n",
    "tokenizer = Tokenizer(num_words=20000)\n",
    "tokenizer.fit_on_texts(np.array(bag_of_words))\n"
   ]
  },
  {
   "cell_type": "code",
   "execution_count": 8,
   "metadata": {},
   "outputs": [],
   "source": [
    "from tensorflow.keras.preprocessing import sequence\n",
    "X = tokenizer.texts_to_sequences(np.array(bag_of_words))\n",
    "X = sequence.pad_sequences(X,maxlen=50)"
   ]
  },
  {
   "cell_type": "code",
   "execution_count": 10,
   "metadata": {},
   "outputs": [],
   "source": [
    "y = dataset[\"toxic\"].values\n",
    "X_train,X_test,y_train,y_test = train_test_split(X,y,test_size=0.2,random_state=0)"
   ]
  },
  {
   "cell_type": "code",
   "execution_count": 11,
   "metadata": {},
   "outputs": [
    {
     "name": "stdout",
     "output_type": "stream",
     "text": [
      "Model: \"sequential\"\n",
      "_________________________________________________________________\n",
      "Layer (type)                 Output Shape              Param #   \n",
      "=================================================================\n",
      "embedding (Embedding)        (None, None, 50)          1000000   \n",
      "_________________________________________________________________\n",
      "dense (Dense)                (None, None, 50)          2550      \n",
      "_________________________________________________________________\n",
      "dense_1 (Dense)              (None, None, 1)           51        \n",
      "=================================================================\n",
      "Total params: 1,002,601\n",
      "Trainable params: 1,002,601\n",
      "Non-trainable params: 0\n",
      "_________________________________________________________________\n"
     ]
    }
   ],
   "source": [
    "from tensorflow.keras.layers import Embedding\n",
    "model = Sequential()\n",
    "model.add(Embedding(20000,50))\n",
    "model.add(Dense(50, activation='relu'))\n",
    "model.add(Dense(1, activation='sigmoid'))\n",
    "model.summary() "
   ]
  },
  {
   "cell_type": "code",
   "execution_count": 12,
   "metadata": {},
   "outputs": [],
   "source": [
    "#functions to calculate recall,precision and f1_score\n",
    "from tensorflow.keras import backend as K\n",
    "\n",
    "def recall_m(y_true, y_pred):\n",
    "    true_positives = K.sum(K.round(K.clip(y_true * y_pred, 0, 1)))\n",
    "    possible_positives = K.sum(K.round(K.clip(y_true, 0, 1)))\n",
    "    recall = true_positives / (possible_positives + K.epsilon())\n",
    "    return recall\n",
    "\n",
    "def precision_m(y_true, y_pred):\n",
    "    true_positives = K.sum(K.round(K.clip(y_true * y_pred, 0, 1)))\n",
    "    predicted_positives = K.sum(K.round(K.clip(y_pred, 0, 1)))\n",
    "    precision = true_positives / (predicted_positives + K.epsilon())\n",
    "    return precision\n",
    "\n",
    "def f1_m(y_true, y_pred):\n",
    "    precision = precision_m(y_true, y_pred)\n",
    "    recall = recall_m(y_true, y_pred)\n",
    "    return 2*((precision*recall)/(precision+recall+K.epsilon()))\n",
    "\n",
    "model.compile(loss='binary_crossentropy',optimizer='adam',metrics=['accuracy',f1_m,precision_m, recall_m])"
   ]
  },
  {
   "cell_type": "code",
   "execution_count": 13,
   "metadata": {},
   "outputs": [
    {
     "name": "stdout",
     "output_type": "stream",
     "text": [
      "Train on 4800 samples\n",
      "Epoch 1/8\n",
      "4800/4800 - 5s - loss: 0.5065 - accuracy: 0.8788 - f1_m: 0.0837 - precision_m: 0.0905 - recall_m: 1.8360\n",
      "Epoch 2/8\n",
      "4800/4800 - 4s - loss: 0.3165 - accuracy: 0.9062 - f1_m: 0.7174 - precision_m: 0.7714 - recall_m: 0.8250\n",
      "Epoch 3/8\n",
      "4800/4800 - 4s - loss: 0.2938 - accuracy: 0.9076 - f1_m: 0.9747 - precision_m: 0.7616 - recall_m: 1.7221\n",
      "Epoch 4/8\n",
      "4800/4800 - 4s - loss: 0.2850 - accuracy: 0.9110 - f1_m: 1.2459 - precision_m: 0.7603 - recall_m: 4.0629\n",
      "Epoch 5/8\n",
      "4800/4800 - 4s - loss: 0.2810 - accuracy: 0.9109 - f1_m: 1.2189 - precision_m: 0.7185 - recall_m: 4.5451\n",
      "Epoch 6/8\n",
      "4800/4800 - 4s - loss: 0.2787 - accuracy: 0.9109 - f1_m: 1.2123 - precision_m: 0.7153 - recall_m: 4.5065\n",
      "Epoch 7/8\n",
      "4800/4800 - 4s - loss: 0.2774 - accuracy: 0.9108 - f1_m: 1.1616 - precision_m: 0.6786 - recall_m: 4.5587\n",
      "Epoch 8/8\n",
      "4800/4800 - 4s - loss: 0.2761 - accuracy: 0.9110 - f1_m: 1.2132 - precision_m: 0.7142 - recall_m: 4.7155\n"
     ]
    }
   ],
   "source": [
    "history = model.fit(X_train,y_train,batch_size=50,epochs=8,verbose=2)"
   ]
  },
  {
   "cell_type": "code",
   "execution_count": 15,
   "metadata": {},
   "outputs": [
    {
     "name": "stdout",
     "output_type": "stream",
     "text": [
      "1200/1200 - 1s - loss: 0.3747 - accuracy: 0.8787 - f1_m: 0.8205 - precision_m: 0.5016 - recall_m: 2.5116\n"
     ]
    }
   ],
   "source": [
    "loss, accuracy, f1_score, precision, recall = model.evaluate(X_test,y_test,batch_size=50,verbose=2)"
   ]
  },
  {
   "cell_type": "code",
   "execution_count": 16,
   "metadata": {},
   "outputs": [],
   "source": [
    "y_pred = model.predict(X_test)"
   ]
  },
  {
   "cell_type": "code",
   "execution_count": 17,
   "metadata": {},
   "outputs": [
    {
     "data": {
      "text/plain": [
       "1200"
      ]
     },
     "execution_count": 17,
     "metadata": {},
     "output_type": "execute_result"
    }
   ],
   "source": [
    "len(y_pred)"
   ]
  },
  {
   "cell_type": "code",
   "execution_count": 18,
   "metadata": {},
   "outputs": [],
   "source": [
    "results = []\n",
    "for result in y_pred:\n",
    "    answer = max(result)\n",
    "    if answer > 0.5:\n",
    "        results.append(1)\n",
    "    else:\n",
    "        results.append(0)\n",
    "results = np.array(results)"
   ]
  },
  {
   "cell_type": "code",
   "execution_count": 19,
   "metadata": {},
   "outputs": [
    {
     "data": {
      "text/plain": [
       "1200"
      ]
     },
     "execution_count": 19,
     "metadata": {},
     "output_type": "execute_result"
    }
   ],
   "source": [
    "len(results)"
   ]
  },
  {
   "cell_type": "code",
   "execution_count": 21,
   "metadata": {},
   "outputs": [
    {
     "name": "stdout",
     "output_type": "stream",
     "text": [
      "True positive rate =  0.8378378378378378\n",
      "False positive rate =  0.19106463878326996\n",
      "ROC area ==  0.8233865995272839\n"
     ]
    }
   ],
   "source": [
    "from sklearn.metrics import roc_auc_score,confusion_matrix\n",
    "def get_roc_area_and_tp_and_fp_rates():\n",
    "    cm = confusion_matrix(y_test,results)\n",
    "    tn, fp, fn, tp = cm.ravel()\n",
    "    print(\"True positive rate = \",tp/(tp + fn))\n",
    "    print(\"False positive rate = \",fp/(tn + fp))\n",
    "    area = roc_auc_score(y_test,results)\n",
    "    print(\"ROC area == \",area)\n",
    "    \n",
    "get_roc_area_and_tp_and_fp_rates()\n",
    "    "
   ]
  },
  {
   "cell_type": "code",
   "execution_count": 23,
   "metadata": {},
   "outputs": [
    {
     "data": {
      "image/png": "[encoded data removed]",
      "text/plain": [
       "<Figure size 432x288 with 1 Axes>"
      ]
     },
     "metadata": {
      "needs_background": "light"
     },
     "output_type": "display_data"
    }
   ],
   "source": [
    "from sklearn.metrics import roc_curve\n",
    "fp,tp,treshold = roc_curve(y_test,results)\n",
    "plt.plot(fp,tp,marker = '.',label='ROC Curve for Multi Layered Perceptron Neural Network',color='purple')\n",
    "plt.xlabel(\"False Positive Rate\")\n",
    "plt.ylabel('True Positive Rate')\n",
    "plt.legend()\n",
    "plt.show()"
   ]
  },
  {
   "cell_type": "code",
   "execution_count": null,
   "metadata": {},
   "outputs": [],
   "source": []
  }
 ],
 "metadata": {
  "kernelspec": {
   "display_name": "Python 3",
   "language": "python",
   "name": "python3"
  },
  "language_info": {
   "codemirror_mode": {
    "name": "ipython",
    "version": 3
   },
   "file_extension": ".py",
   "mimetype": "text/x-python",
   "name": "python",
   "nbconvert_exporter": "python",
   "pygments_lexer": "ipython3",
   "version": "3.7.7"
  }
 },
 "nbformat": 4,
 "nbformat_minor": 4
}
